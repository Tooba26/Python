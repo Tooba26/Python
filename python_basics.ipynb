{
 "cells": [
  {
   "cell_type": "markdown",
   "metadata": {},
   "source": [
    "## Welcome to Python Learning!\n"
   ]
  },
  {
   "cell_type": "markdown",
   "metadata": {},
   "source": [
    "#### What is Python?\n",
    "Python is a high level programming language. It is open source, interpreted, object-oriented programming language"
   ]
  },
  {
   "cell_type": "markdown",
   "metadata": {},
   "source": [
    "#### Some History!\n",
    "\n",
    "- Name of the Python Programming language was dervied from the British comedy group Monty Python's Flying Circus.\n",
    "- **First Version Release:** February 20, 1991\n",
    "- **Created By:** A Dutch Programmer, Guido van Rossum"
   ]
  },
  {
   "cell_type": "markdown",
   "metadata": {},
   "source": [
    "**Python Indentation**\n",
    "Indentation is used to define block-level structure in Python. It is used to group statements together to form a block of code. "
   ]
  },
  {
   "cell_type": "markdown",
   "metadata": {},
   "source": [
    "**Let's see some Python Errors**\n",
    "\n",
    "Errors are part of programming. Many programmers encounter different type of errors while coding. Here are some common Python errors:\n",
    "- SyntaxError\n",
    "- IndexError\n",
    "- TypeError\n",
    "- ModuleNotFoundError\n",
    "- KeyError\n",
    "- Import Error\n",
    "- Attribute Error\n",
    "- Value Error\n",
    "- ZeroDivisionError\n"
   ]
  },
  {
   "cell_type": "markdown",
   "metadata": {},
   "source": [
    "### DATA TYPES IN PYTHON\n",
    "\n",
    "**1. Number:**\n",
    "- Integers: whole numbers, e.g., 1, 2, 3, etc.\n",
    "- Floats: decimal numbers, e.g., 3.14, -0.5,\n",
    "- Complex numnbers: numbers with real and imaginary parts, e.g., 3 + 4j\n",
    "\n",
    "**2. String:**\n",
    "- A sequence of characters, e.g., \"hello\", 'hello', \"hello world\", etc\n",
    "- Strings can be enclosed in single quotes or double quotes\n",
    "- Strings can be concatenated using the + operator, e.g., \"hello\" + \"world\"\n",
    "\n",
    "**3. Boolean:**\n",
    "- A logical value that can be either True or False\n",
    "- Used for conditional statements and logical operations\n",
    "\n",
    "**4. List:**\n",
    "- An **ordered** collection of items that can be of any data type, including strings, integers, floats etc\n",
    "- Lists are denoted by **square brackets []**\n",
    "- Lists can be indexed, sliced, and modified\n",
    "\n",
    "**5. Dictionary:**\n",
    "- An **unordered** collection of data in key-value pairs\n",
    "- Dictionaries are denoted by **curly brackets {}**\n",
    "- Dictionaries can be accessed by their keys\n",
    "\n",
    "**6. Tuples:**\n",
    "- An **ordered** and **immutable** collection of items\n",
    "- Tuples are denoted by **round brackets ()**\n",
    "- Tuples can be indexed and sliced but cannot be modified\n",
    "\n",
    "**7. Set:**\n",
    "- An **unordered** collection of unique items\n",
    "- Sets are denoted by **curly brackets {}**\n"
   ]
  },
  {
   "cell_type": "markdown",
   "metadata": {},
   "source": [
    "Now Let's code to better understand the Data Types used in Python"
   ]
  },
  {
   "cell_type": "code",
   "execution_count": 2,
   "metadata": {},
   "outputs": [
    {
     "name": "stdout",
     "output_type": "stream",
     "text": [
      "10 is: <class 'int'>\n",
      "3.5 is: <class 'int'>\n",
      "1 + 2j is: <class 'int'>\n"
     ]
    }
   ],
   "source": [
    "# Numbers\n",
    "int_dt = type(10)\n",
    "float_dt = type(3.5)\n",
    "complex_dt = type(1 + 2j)\n",
    "\n",
    "print(f\"10 is: {int_dt}\")\n",
    "print(f\"3.5 is: {int_dt}\")\n",
    "print(f\"1 + 2j is: {int_dt}\")"
   ]
  },
  {
   "cell_type": "code",
   "execution_count": 8,
   "metadata": {},
   "outputs": [
    {
     "name": "stdout",
     "output_type": "stream",
     "text": [
      "Hello! I am Tooba. <class 'str'>\n",
      "I am doing my master's in Data Science and Artificial Intelligence <class 'str'>\n",
      "Hello! I am Tooba.I am doing my master's in Data Science and Artificial Intelligence <class 'str'>\n"
     ]
    }
   ],
   "source": [
    "# String \n",
    "string1 = \"Hello! I am Tooba.\"\n",
    "string2 = \"I am doing my master's in Data Science and Artificial Intelligence\"\n",
    "string3 = string1 + string2\n",
    "\n",
    "print(string1, type(string1))\n",
    "print(string2, type(string2))\n",
    "print(string3, type(string3))"
   ]
  },
  {
   "cell_type": "code",
   "execution_count": 10,
   "metadata": {},
   "outputs": [
    {
     "name": "stdout",
     "output_type": "stream",
     "text": [
      "Type of True is: <class 'bool'>\n",
      "Type of False is: <class 'bool'>\n"
     ]
    }
   ],
   "source": [
    "# Boolean\n",
    "t = type(True)\n",
    "f = type(False)\n",
    "\n",
    "print(f\"Type of True is: {t}\")\n",
    "print(f\"Type of False is: {f}\")"
   ]
  },
  {
   "cell_type": "code",
   "execution_count": 17,
   "metadata": {},
   "outputs": [
    {
     "name": "stdout",
     "output_type": "stream",
     "text": [
      "['Arshad', '18', 'Male', 'Pakistan'] <class 'list'>\n"
     ]
    }
   ],
   "source": [
    "# List\n",
    "list_1 = [\"Arshad\", \"18\", \"Male\", \"Pakistan\"]\n",
    "\n",
    "print(list_1, type(list_1))"
   ]
  },
  {
   "cell_type": "code",
   "execution_count": 18,
   "metadata": {},
   "outputs": [
    {
     "name": "stdout",
     "output_type": "stream",
     "text": [
      "{'Name': 'Rashida', 'Gender': 'Female', 'Nationality': 'Pakistani'} <class 'dict'>\n"
     ]
    }
   ],
   "source": [
    "# Dictionary\n",
    "dict_1 = {\"Name\": \"Rashida\", \n",
    "          \"Gender\": \"Female\",\n",
    "          \"Nationality\": \"Pakistani\"}\n",
    "print(dict_1, type(dict_1))"
   ]
  },
  {
   "cell_type": "code",
   "execution_count": 14,
   "metadata": {},
   "outputs": [
    {
     "name": "stdout",
     "output_type": "stream",
     "text": [
      "((1, 2, 3), ('Tooba', 'Nado')) <class 'tuple'>\n"
     ]
    }
   ],
   "source": [
    "# Tuple\n",
    "tuple_1 = ((1,2,3), (\"Tooba\", \"Nado\"))\n",
    "print(tuple_1, type(tuple_1))"
   ]
  },
  {
   "cell_type": "code",
   "execution_count": 16,
   "metadata": {},
   "outputs": [
    {
     "name": "stdout",
     "output_type": "stream",
     "text": [
      "{1, 2, 3, 4, 'Nado'} <class 'set'>\n"
     ]
    }
   ],
   "source": [
    "# Set\n",
    "set_1 = {1,2,3,4, \"Nado\"}\n",
    "print(set_1, type(set_1))"
   ]
  },
  {
   "cell_type": "markdown",
   "metadata": {},
   "source": [
    "Let's do some mathematical operations!\n"
   ]
  },
  {
   "cell_type": "code",
   "execution_count": 19,
   "metadata": {},
   "outputs": [
    {
     "name": "stdout",
     "output_type": "stream",
     "text": [
      "3\n"
     ]
    }
   ],
   "source": [
    "# Addition\n",
    "add = 1 + 2\n",
    "print(add)"
   ]
  },
  {
   "cell_type": "code",
   "execution_count": 20,
   "metadata": {},
   "outputs": [
    {
     "name": "stdout",
     "output_type": "stream",
     "text": [
      "172.5\n"
     ]
    }
   ],
   "source": [
    "# Subtraction\n",
    "sub = 190 - 17.5\n",
    "print(sub)"
   ]
  },
  {
   "cell_type": "code",
   "execution_count": 1,
   "metadata": {},
   "outputs": [
    {
     "name": "stdout",
     "output_type": "stream",
     "text": [
      "250.0\n"
     ]
    }
   ],
   "source": [
    "# Division\n",
    "div  = 500 / 2\n",
    "\n",
    "print(div)"
   ]
  },
  {
   "cell_type": "code",
   "execution_count": 4,
   "metadata": {},
   "outputs": [
    {
     "name": "stdout",
     "output_type": "stream",
     "text": [
      "276\n"
     ]
    }
   ],
   "source": [
    " \n",
    "f = 553 // 2\n",
    "print(f)"
   ]
  },
  {
   "cell_type": "code",
   "execution_count": 6,
   "metadata": {},
   "outputs": [
    {
     "name": "stdout",
     "output_type": "stream",
     "text": [
      "1\n"
     ]
    }
   ],
   "source": [
    "# Mod\n",
    "mod = 501 % 2\n",
    "print(mod)"
   ]
  },
  {
   "cell_type": "code",
   "execution_count": null,
   "metadata": {},
   "outputs": [],
   "source": []
  }
 ],
 "metadata": {
  "kernelspec": {
   "display_name": "base",
   "language": "python",
   "name": "python3"
  },
  "language_info": {
   "codemirror_mode": {
    "name": "ipython",
    "version": 3
   },
   "file_extension": ".py",
   "mimetype": "text/x-python",
   "name": "python",
   "nbconvert_exporter": "python",
   "pygments_lexer": "ipython3",
   "version": "3.12.4"
  }
 },
 "nbformat": 4,
 "nbformat_minor": 2
}
