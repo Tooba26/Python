{
 "cells": [
  {
   "cell_type": "markdown",
   "metadata": {},
   "source": [
    "## Welcome to Python Learning!\n"
   ]
  },
  {
   "cell_type": "markdown",
   "metadata": {},
   "source": [
    "#### What is Python?\n",
    "Python is a high level programming language. It is open source, interpreted, object-oriented programming language"
   ]
  },
  {
   "cell_type": "markdown",
   "metadata": {},
   "source": [
    "#### Some History!\n",
    "\n",
    "- Name of the Python Programming language was dervied from the British comedy group Monty Python's Flying Circus.\n",
    "- **First Version Release:** February 20, 1991\n",
    "- **Created By:** A Dutch Programmer, Guido van Rossum"
   ]
  },
  {
   "cell_type": "markdown",
   "metadata": {},
   "source": [
    "**Let's see some Python Errors**\n",
    "\n",
    "Errors are part of programming. Many programmers encounter different type of errors while coding. Here are some common Python errors:\n",
    "- SyntaxError\n",
    "- IndexError\n",
    "- TypeError\n",
    "- ModuleNotFoundError\n",
    "- KeyError\n",
    "- Import Error\n",
    "- Attribute Error\n",
    "- Value Error\n",
    "- ZeroDivisionError\n"
   ]
  },
  {
   "cell_type": "markdown",
   "metadata": {},
   "source": [
    "### DATA TYPES IN PYTHON\n",
    "\n",
    "**1. Number:**\n",
    "- Integers: whole numbers, e.g., 1, 2, 3, etc.\n",
    "- Floats: decimal numbers, e.g., 3.14, -0.5,\n",
    "- Complex numnbers: numbers with real and imaginary parts, e.g., 3 + 4j\n",
    "\n",
    "**2. String:**\n",
    "- A sequence of characters, e.g., \"hello\", 'hello', \"hello world\", etc\n",
    "- Strings can be enclosed in single quotes or double quotes\n",
    "- Strings can be concatenated using the + operator, e.g., \"hello\" + \"world\"\n",
    "\n",
    "**3. Boolean:**\n",
    "- A logical value that can be either True or False\n",
    "- Used for conditional statements and logical operations\n",
    "\n",
    "**4. List:**\n",
    "- An **ordered** collection of items that can be of any data type, including strings, integers, floats etc\n",
    "- Lists are denoted by **square brackets []**\n",
    "- Lists can be indexed, sliced, and modified\n",
    "\n",
    "**5. Dictionary:**\n",
    "- An **unordered** collection of data in key-value pairs\n",
    "- Dictionaries are denoted by **curly brackets {}**\n",
    "- Dictionaries can be accessed by their keys\n",
    "\n",
    "**6. Tuples:**\n",
    "- An **ordered** and **immutable** collection of items\n",
    "- Tuples are denoted by **round brackets ()**\n",
    "- Tuples can be indexed and sliced but cannot be modified\n",
    "\n",
    "**7. Set:**\n",
    "- An **unordered** collection of unique items\n",
    "- Sets are denoted by **curly brackets {}**\n"
   ]
  },
  {
   "cell_type": "markdown",
   "metadata": {},
   "source": []
  }
 ],
 "metadata": {
  "kernelspec": {
   "display_name": "base",
   "language": "python",
   "name": "python3"
  },
  "language_info": {
   "name": "python",
   "version": "3.12.4"
  }
 },
 "nbformat": 4,
 "nbformat_minor": 2
}
